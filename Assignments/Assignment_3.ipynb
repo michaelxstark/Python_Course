{
 "cells": [
  {
   "cell_type": "markdown",
   "metadata": {},
   "source": [
    "## Third Assignment"
   ]
  },
  {
   "cell_type": "markdown",
   "metadata": {},
   "source": [
    "#### 1) Create a function named **swap ()**, which receives two tuples **a** and **b**, with two elements each. Your code should cause the last elements of the two tuples to be exchanged, and then return the two tuples. "
   ]
  },
  {
   "cell_type": "code",
   "execution_count": 11,
   "metadata": {},
   "outputs": [
    {
     "name": "stdout",
     "output_type": "stream",
     "text": [
      "(9, 5) (3, 7)\n"
     ]
    }
   ],
   "source": [
    "def swap(a, b):\n",
    "    def swapa(a, b):\n",
    "        a = (a[0], b[1])\n",
    "        return a\n",
    "    def swapb(a, b):\n",
    "        b = (b[0], a[1])\n",
    "        return b\n",
    "    print(swapa(a, b), swapb(a, b), sep=' ')\n",
    "    \n",
    "swap((9,7), (3,5))"
   ]
  },
  {
   "cell_type": "markdown",
   "metadata": {},
   "source": [
    "#### 2) Create the function **dist ()** that takes as an argument two tuples that represent Cartesian coordinates of two points. Your function must return a number that corresponds to the Cartesian distance between these two points."
   ]
  },
  {
   "cell_type": "code",
   "execution_count": 7,
   "metadata": {},
   "outputs": [
    {
     "data": {
      "text/plain": [
       "5.6"
      ]
     },
     "execution_count": 7,
     "metadata": {},
     "output_type": "execute_result"
    }
   ],
   "source": [
    "def dist(point1, point2):\n",
    "    d = ((point1[0] - point2[0])**2 + (point1[1] - point2[1])**2)**0.5\n",
    "    return d\n",
    "    \n",
    "    \n",
    "dist((5, 2.4), (5, 8))"
   ]
  },
  {
   "cell_type": "markdown",
   "metadata": {},
   "source": [
    "#### 3) Create the class **Ball**, to represent a sphere filled with water (weighing 1000g per cubic meter) with a radius **r**. Depending on the surface painting, it can have different weights: blue - weight 1g per square meter: yellow - 2g per square meter or red - 3g per square meter. The class parameter is a tuple **(r, color)**, an integer and a string, respectively. The **weight()** method of the class should return the total weight in kg of the ball (the weight of the water with the external weight of the surface). See example:\n",
    "\n",
    ">```python\n",
    ">>>> Ball((2, \"red\")).weight()\n",
    "> 33.66111808566343\n",
    ">\n",
    ">>>> Ball((3, \"blue\")).weight()\n",
    "> 113.21043286476177\n",
    "\n",
    "Hints: \n",
    "- Use $\\pi$ = 3.14159\n",
    "- Sphere volume: $\\frac43 \\pi r^3$\n",
    "- Surface area: $4\\pi r^2$"
   ]
  },
  {
   "cell_type": "code",
   "execution_count": 101,
   "metadata": {},
   "outputs": [
    {
     "data": {
      "text/plain": [
       "113.21043286476178"
      ]
     },
     "execution_count": 101,
     "metadata": {},
     "output_type": "execute_result"
    }
   ],
   "source": [
    "from math import pi \n",
    "class Ball:\n",
    "    def __init__(self, params):\n",
    "        self.radius = params[0]\n",
    "        self.color = params[1]\n",
    "    def weight(self):\n",
    "        if self.color == 'blue':\n",
    "            sv = (4/3) * math.pi * (self.radius ** 3) * 1000\n",
    "            sa = 4 * math.pi * (self.radius ** 2)\n",
    "            return (sa + sv) * 0.001\n",
    "        elif self.color == 'yellow':\n",
    "            sv = (4/3) * math.pi * (self.radius ** 3) * 1000\n",
    "            sa = (4 * math.pi * (self.radius ** 2)) * 2\n",
    "            return (sa + sv) * 0.001\n",
    "        elif self.color == 'red':\n",
    "            sv = (4/3) * math.pi * (self.radius ** 3) * 1000\n",
    "            sa = (4 * math.pi * (self.radius ** 2)) * 3\n",
    "            return (sa + sv) * 0.001\n",
    "        \n",
    "Ball((3, 'blue')).weight()"
   ]
  },
  {
   "cell_type": "markdown",
   "metadata": {},
   "source": [
    "#### 4) Roman numbers are occasionally used for time stamps or other purposes, but their manual conversion is somewhat laborious. Your task is to implement two functions, ***int_to_Roman() ]*** which converts an integer to Roman (in string) and **Roman_to_int()** which does the reverse. See examples below:\n",
    "\n",
    ">```python\n",
    ">>>> int_to_Roman(1)\n",
    "> I\n",
    ">>>> int_to_Roman(3000)\n",
    "> MMM\n",
    ">\n",
    ">>>> Roman_to_int('MMMCMLXXXVI')\n",
    "> 3986\n",
    ">>>> Roman_to_int('C')\n",
    "> 100\n",
    "\n",
    "Note: All test cases will be less than 4000, so you do not have to worry about the characters with bars above them, used in some versions of the Roman numbering system."
   ]
  },
  {
   "cell_type": "code",
   "execution_count": 383,
   "metadata": {},
   "outputs": [
    {
     "data": {
      "text/plain": [
       "'MXLIV'"
      ]
     },
     "execution_count": 383,
     "metadata": {},
     "output_type": "execute_result"
    }
   ],
   "source": [
    "def int_to_Roman(n):\n",
    "    list1 = 'I', 'V', 'X', 'L', 'C', 'D', 'M' \n",
    "    list2 = 1, 5, 10, 50, 100, 500, 1000\n",
    "    Roman = dict(zip(list2, list1))\n",
    "    if n in Roman:\n",
    "        return Roman[n]\n",
    "    if n < 10:\n",
    "        # rules for 1 - 3 and 5 - 8:\n",
    "        if 0 < n < 4 or 5 < n < 9:\n",
    "            return (Roman[5] * (n // 5)) + Roman[1] * (n % 5)\n",
    "        # rules for 4 and 9:\n",
    "        elif n % 5 == 4:\n",
    "            return Roman[1] + Roman[5] * (n // 5 == 0) + Roman[10] * (n // 5 == 1)\n",
    "    elif 10 < n < 100:\n",
    "                # rules for 1 - 3 and 5 - 8:\n",
    "        if 0 < int(str(n)[1]) < 4 or 4 < int(str(n)[1]) < 9:\n",
    "            b = (Roman[5] * (int(str(n)[1]) // 5)) + Roman[1] * (int(str(n)[1]) % 5)\n",
    "        # rules for 4 and 9:\n",
    "        elif int(str(n)[1]) % 5 == 4:\n",
    "            b = Roman[1] + Roman[5] * (int(str(n)[1]) // 5 == 0) + Roman[10] * (int(str(n)[1]) // 5 == 1)\n",
    "        else:\n",
    "            b = ''\n",
    "        # first digit\n",
    "        if 0 < int(str(n)[0]) < 4 or 4 < int(str(n)[0]) < 9:\n",
    "            a = (Roman[50] * (int(str(n)[0]) // 5)) + Roman[10] * (int(str(n)[0]) % 5)\n",
    "        # rules for 4 and 9:\n",
    "        elif int(str(n)[0]) % 5 == 4:\n",
    "            a = Roman[10] + Roman[50] * (int(str(n)[0]) // 5 == 0) + Roman[100] * (int(str(n)[0]) // 5 == 1)\n",
    "        return a + b \n",
    "    elif 100 < n < 1000:\n",
    "                        # rules for 1 - 3 and 5 - 8:\n",
    "        if 0 < int(str(n)[2]) < 4 or 4 < int(str(n)[2]) < 9:\n",
    "            c = (Roman[5] * (int(str(n)[2]) // 5)) + Roman[1] * (int(str(n)[2]) % 5)\n",
    "        # rules for 4 and 9:\n",
    "        elif int(str(n)[2]) % 5 == 4:\n",
    "            c = Roman[1] + Roman[5] * (int(str(n)[2]) // 5 == 0) + Roman[10] * (int(str(n)[2]) // 5 == 1)\n",
    "        else:\n",
    "            c = ''\n",
    "        # second digit\n",
    "        if 0 < int(str(n)[1]) < 4 or 4 < int(str(n)[1]) < 9:\n",
    "            b = (Roman[50] * (int(str(n)[1]) // 5)) + Roman[10] * (int(str(n)[1]) % 5)\n",
    "        # rules for 4 and 9:\n",
    "        elif int(str(n)[1]) % 5 == 4:\n",
    "            b = Roman[10] + Roman[50] * (int(str(n)[1]) // 5 == 0) + Roman[100] * (int(str(n)[1]) // 5 == 1)\n",
    "        else:\n",
    "            b = ''\n",
    "        # first digit\n",
    "        if 0 < int(str(n)[0]) < 4 or 4 < int(str(n)[0]) < 9:\n",
    "            a = (Roman[500] * (int(str(n)[0]) // 5)) + Roman[100] * (int(str(n)[0]) % 5)\n",
    "        # rules for 4 and 9:\n",
    "        elif int(str(n)[0]) % 5 == 4:\n",
    "            a = Roman[100] + Roman[500] * (int(str(n)[0]) // 5 == 0) + Roman[1000] * (int(str(n)[0]) // 5 == 1)\n",
    "        return a + b + c\n",
    "    elif 1000 < n < 4000:\n",
    "                                 # rules for 1 - 3 and 5 - 8:\n",
    "        if 0 < int(str(n)[3]) < 4 or 4 < int(str(n)[3]) < 9:\n",
    "            d = (Roman[5] * (int(str(n)[3]) // 5)) + Roman[1] * (int(str(n)[3]) % 5)\n",
    "        # rules for 4 and 9:\n",
    "        elif int(str(n)[3]) % 5 == 4:\n",
    "            d = Roman[1] + Roman[5] * (int(str(n)[3]) // 5 == 0) + Roman[10] * (int(str(n)[3]) // 5 == 1)\n",
    "        else:\n",
    "            d = ''\n",
    "        # second digit\n",
    "        if 0 < int(str(n)[2]) < 4 or 4 < int(str(n)[2]) < 9:\n",
    "            c = (Roman[50] * (int(str(n)[1]) // 5)) + Roman[10] * (int(str(n)[1]) % 5)\n",
    "        # rules for 4 and 9:\n",
    "        elif int(str(n)[2]) % 5 == 4:\n",
    "            c = Roman[10] + Roman[50] * (int(str(n)[2]) // 5 == 0) + Roman[100] * (int(str(n)[2]) // 5 == 1)\n",
    "        else:\n",
    "            c = ''\n",
    "        # first digit\n",
    "        if 0 < int(str(n)[1]) < 4 or 4 < int(str(n)[1]) < 9:\n",
    "            b = (Roman[500] * (int(str(n)[1]) // 5)) + Roman[100] * (int(str(n)[1]) % 5)\n",
    "        # rules for 4 and 9:\n",
    "        elif int(str(n)[1]) % 5 == 4:\n",
    "            b = Roman[100] + Roman[500] * (int(str(n)[1]) // 5 == 0) + Roman[1000] * (int(str(n)[1]) // 5 == 1)\n",
    "        else:\n",
    "            b = ''\n",
    "        if 0 < int(str(n)[0]) < 4 or 4 < int(str(n)[0]) < 9:\n",
    "            a = Roman[1000] * (int(str(n)[0]) % 5)\n",
    "        return a + b + c + d \n",
    "\n",
    "int_to_Roman(1044)"
   ]
  },
  {
   "cell_type": "code",
   "execution_count": null,
   "metadata": {},
   "outputs": [],
   "source": [
    "# first solve then optimize"
   ]
  },
  {
   "cell_type": "code",
   "execution_count": 382,
   "metadata": {},
   "outputs": [
    {
     "data": {
      "text/plain": [
       "1048"
      ]
     },
     "execution_count": 382,
     "metadata": {},
     "output_type": "execute_result"
    }
   ],
   "source": [
    "def Roman_to_int(rom):\n",
    "    list1 = 'I', 'V', 'X', 'L', 'C', 'D', 'M' \n",
    "    list2 = 1, 5, 10, 50, 100, 500, 1000\n",
    "    ints = dict(zip(list1, list2))\n",
    "    # defining exceptions\n",
    "    fournine = ['IV', 'IX', 'XL', 'XC', 'CD', 'CM']\n",
    "    # looking for exceptions\n",
    "    dfn = [rom.find(i) for i in fournine if rom.find(i) != -1]\n",
    "    adfn = [rom[a:a+2] for a in dfn]\n",
    "    # sum of exceptions\n",
    "    sum1 = sum([ints[b[1]] - ints[b[0]] for b in adfn])\n",
    "    # rest of string\n",
    "    ndfn = [b for b in rom if b not in ''.join(adfn)]\n",
    "    # sum of rest\n",
    "    sum2 = sum([ints[a] for a in ndfn])\n",
    "    # whole sum\n",
    "    return sum1 + sum2\n",
    "\n",
    "Roman_to_int('MXLVIII')"
   ]
  },
  {
   "cell_type": "code",
   "execution_count": null,
   "metadata": {},
   "outputs": [],
   "source": [
    "# test for specific cases\n",
    "# release early, release often\n",
    "# what kind of errors?"
   ]
  },
  {
   "cell_type": "markdown",
   "metadata": {},
   "source": [
    "#### 5) The **area()** function receives a list **l** of ordered pairs. These ordered pairs represent the vertices of a convex polygon in the Cartesian plane traversed in a single direction. There is a mathematical method that, given the coordinates of the vertices of a polygon, the area can be calculated. You can find more details about the method by clicking [here](https://www.mathopenref.com/coordpolygonarea.html). Your code should make the function return the number that corresponds to the area of the polygon represented by the entry (rounded to two decimal places). See the following examples:\n",
    "\n",
    ">```python\n",
    ">>>> area([(0,0),(5,0),(13,8)])\n",
    "> 20.00\n",
    ">\n",
    ">>>> area([(2,0),(6,0),(10,4),(0,4)])\n",
    "> 28.00\n",
    "```"
   ]
  },
  {
   "cell_type": "code",
   "execution_count": 425,
   "metadata": {},
   "outputs": [
    {
     "data": {
      "text/plain": [
       "28.0"
      ]
     },
     "execution_count": 425,
     "metadata": {},
     "output_type": "execute_result"
    }
   ],
   "source": [
    "def area(lioop):\n",
    "    a = 0\n",
    "    for i in range(len(lioop)):\n",
    "        a += ((lioop[i][0] * lioop[(i + 1) % len(lioop)][1]) - (lioop[i][1] * lioop[(i + 1) % len(lioop)][0]))\n",
    "    area = abs(a / 2)\n",
    "    return round(area, 2)\n",
    "\n",
    "area([(2,0), (6, 0), (10,4), (0,4)])   "
   ]
  },
  {
   "cell_type": "markdown",
   "metadata": {},
   "source": [
    "## Challenge\n",
    "\n",
    "#### 6) The function **matches()** receives a list **l** of ordered distinct integers and an integer **n**. Its must return a list of tuples, each tuple with **n** elements, containing all possible combinations **n** by **n** (ordered, without repetitions) of the elements in the list **l**. You should only return a list **r** containing the generated tuples. Make sure that tuples are ordered in the list. See the examples below:\n",
    "\n",
    ">```python\n",
    ">>>> matches([1,2,3,4],2)\n",
    "> [(1,2),(1,3),(1,4),(2,3),(2,4),(3,4)]\n",
    ">\n",
    ">>>> matches([1,2,3,4],3)\n",
    "> [(1, 2, 3), (1, 2, 4), (1, 3, 4), (2, 3, 4)]\n"
   ]
  },
  {
   "cell_type": "code",
   "execution_count": 429,
   "metadata": {},
   "outputs": [
    {
     "data": {
      "text/plain": [
       "[(1, 2), (1, 3), (1, 4), (2, 3), (2, 4), (3, 4)]"
      ]
     },
     "execution_count": 429,
     "metadata": {},
     "output_type": "execute_result"
    }
   ],
   "source": [
    "def matches(l, n):\n",
    "    lalt = [l[(x + y) % len(l)] for x in range(len(l)) for y in range(len(l))]\n",
    "    lb = []\n",
    "    r = []\n",
    "    for ni in range(len(lalt)):\n",
    "        for i in range(n):\n",
    "            lb.append(lalt[(ni + i) % len(lalt)])\n",
    "        if tuple(set(lb)) not in r:\n",
    "            r.append(tuple(set(lb)))\n",
    "        lb = []\n",
    "    return sorted(r)\n",
    "\n",
    "matches([1, 2, 3, 4], 2)"
   ]
  },
  {
   "cell_type": "code",
   "execution_count": null,
   "metadata": {},
   "outputs": [],
   "source": []
  },
  {
   "cell_type": "code",
   "execution_count": null,
   "metadata": {},
   "outputs": [],
   "source": []
  }
 ],
 "metadata": {
  "kernelspec": {
   "display_name": "Python 3",
   "language": "python",
   "name": "python3"
  },
  "language_info": {
   "codemirror_mode": {
    "name": "ipython",
    "version": 3
   },
   "file_extension": ".py",
   "mimetype": "text/x-python",
   "name": "python",
   "nbconvert_exporter": "python",
   "pygments_lexer": "ipython3",
   "version": "3.9.2"
  }
 },
 "nbformat": 4,
 "nbformat_minor": 4
}
