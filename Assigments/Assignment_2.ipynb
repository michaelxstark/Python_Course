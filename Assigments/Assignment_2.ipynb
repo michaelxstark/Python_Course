{
 "cells": [
  {
   "cell_type": "markdown",
   "metadata": {},
   "source": [
    "## Second Assignment"
   ]
  },
  {
   "cell_type": "markdown",
   "metadata": {},
   "source": [
    "#### 1) Create a function called **\"even_squared\"** that receives an integer value **N**, and returns a list containing, in ascending order, the square of each of the even values, from 1 to N, including N if applicable. "
   ]
  },
  {
   "cell_type": "code",
   "execution_count": 2,
   "metadata": {},
   "outputs": [
    {
     "name": "stdout",
     "output_type": "stream",
     "text": [
      "[4, 16, 36, 64, 100]\n"
     ]
    }
   ],
   "source": [
    "def even_squared(N):\n",
    "    les = []\n",
    "    for i in range(1, N + 1):\n",
    "        if i % 2 == 0:\n",
    "            les.append(i ** 2)\n",
    "    return les\n",
    "\n",
    "print(even_squared(10))"
   ]
  },
  {
   "cell_type": "markdown",
   "metadata": {},
   "source": [
    "#### 2) Using a while loop and the **input()** function, read an indefinite amount of **integers** until the number read is **-1**. After this process, print two lists on the screen: The first containing the even integers, and the second containing the odd integers. Both must be in ascending order. "
   ]
  },
  {
   "cell_type": "code",
   "execution_count": 1,
   "metadata": {},
   "outputs": [
    {
     "name": "stdin",
     "output_type": "stream",
     "text": [
      "Enter a number 2\n",
      "Enter a number 3\n",
      "Enter a number 4\n",
      "Enter a number 5\n",
      "Enter a number 1\n",
      "Enter a number 0\n",
      "Enter a number -1\n"
     ]
    },
    {
     "name": "stdout",
     "output_type": "stream",
     "text": [
      "[0, 2, 4]\n",
      "[1, 3, 5]\n"
     ]
    }
   ],
   "source": [
    "eveni = []\n",
    "oddi = []\n",
    "while True:\n",
    "    inp = int(input('Enter a number'))\n",
    "    if inp == -1:\n",
    "        break\n",
    "    elif inp % 2 == 0:\n",
    "        eveni.append(inp)\n",
    "    else:\n",
    "        oddi.append(inp)\n",
    "print(sorted(eveni), sorted(oddi), sep='\\n')"
   ]
  },
  {
   "cell_type": "markdown",
   "metadata": {},
   "source": [
    "#### 3) Create a function called **\"even_account\"** that receives a list of integers, counts the number of existing even elements, and returns this count. "
   ]
  },
  {
   "cell_type": "code",
   "execution_count": 2,
   "metadata": {},
   "outputs": [
    {
     "name": "stdout",
     "output_type": "stream",
     "text": [
      "3\n"
     ]
    }
   ],
   "source": [
    "def even_account(LoI):\n",
    "    count = 0\n",
    "    for v in LoI:\n",
    "        if v % 2 == 0:\n",
    "            count += 1\n",
    "    return count\n",
    "\n",
    "print(even_account([2, 3, 4, 5, 6, 1]))"
   ]
  },
  {
   "cell_type": "markdown",
   "metadata": {},
   "source": [
    "#### 4) Create a function called **\"squared_list\"** that receives a list of integers and returns another list whose elements are the squares of the elements of the first. "
   ]
  },
  {
   "cell_type": "code",
   "execution_count": 3,
   "metadata": {},
   "outputs": [
    {
     "name": "stdout",
     "output_type": "stream",
     "text": [
      "[4, 9, 16, 1, 25]\n"
     ]
    }
   ],
   "source": [
    "def squared_list(LOI):\n",
    "    LOI1 = []\n",
    "    for v in LOI:\n",
    "        LOI1.append(v ** 2)\n",
    "    return LOI1\n",
    "\n",
    "print(squared_list([2, 3, 4, 1, 5]))"
   ]
  },
  {
   "cell_type": "markdown",
   "metadata": {},
   "source": [
    "#### 5) Create a function called **\"descending\"** that receives two lists of integers and returns a single list, which contains all the elements in descending order, and may include repeated elements. "
   ]
  },
  {
   "cell_type": "code",
   "execution_count": 8,
   "metadata": {},
   "outputs": [
    {
     "name": "stdout",
     "output_type": "stream",
     "text": [
      "[6, 5, 4, 3, 2, 2]\n"
     ]
    }
   ],
   "source": [
    "def descending(Loi, Loi1):\n",
    "    Loi.extend(Loi1)\n",
    "    return sorted(Loi)[::-1]\n",
    "\n",
    "print(descending([2, 4, 5], [6, 2, 3]))"
   ]
  },
  {
   "cell_type": "markdown",
   "metadata": {},
   "source": [
    "#### 6) Create a function called **\"adding\"** that receives a list **A**, and an arbitrary number of integers as input. Return a new list containing the elements of **A** plus the integers passed as input, in the order in which they were given. Here is an example: \n",
    "\n",
    ">```python\n",
    ">>>> A = [10,20,30]\n",
    ">>>> adding(A, 4, 10, 50, 1)\n",
    "> [10, 20, 30, 4, 10, 50, 1]\n",
    "```"
   ]
  },
  {
   "cell_type": "code",
   "execution_count": 10,
   "metadata": {},
   "outputs": [
    {
     "data": {
      "text/plain": [
       "[10, 20, 30, 6, 4, 7, 8]"
      ]
     },
     "execution_count": 10,
     "metadata": {},
     "output_type": "execute_result"
    }
   ],
   "source": [
    "def adding(L, *args):\n",
    "    for v in args:\n",
    "        L.append(v)\n",
    "    return A\n",
    "\n",
    "A = [10, 20, 30]\n",
    "adding(A, 6, 4, 7, 8)"
   ]
  },
  {
   "cell_type": "markdown",
   "metadata": {},
   "source": [
    "#### 7) Create a function called **\"intersection\"** that receives two input lists and returns another list with the values that belong to the two lists simultaneously (intersection) without repetition of values and in ascending order. Use only lists (do not use sets); loops and conditionals. See the example: \n",
    "\n",
    ">```python\n",
    ">>>> A = [-2, 0, 1, 2, 3]\n",
    ">>>> B = [-1, 2, 3, 6, 8]\n",
    ">>>> intersection(A,B)\n",
    "> [2, 3]\n",
    "```"
   ]
  },
  {
   "cell_type": "code",
   "execution_count": 4,
   "metadata": {},
   "outputs": [
    {
     "data": {
      "text/plain": [
       "[5, 6]"
      ]
     },
     "execution_count": 4,
     "metadata": {},
     "output_type": "execute_result"
    }
   ],
   "source": [
    "def intersection(L1, L2):\n",
    "    L3 = []\n",
    "    for x in L1:\n",
    "        if x in L2:\n",
    "            L3.append(x)\n",
    "    L4 = []\n",
    "    for y in L3:\n",
    "        if y not in L4:\n",
    "            L4.append(y)\n",
    "    return sorted(L4)\n",
    "    \n",
    "intersection([3, 5, 6,], [5, 5, 6, 6, 2])"
   ]
  },
  {
   "cell_type": "markdown",
   "metadata": {},
   "source": [
    "#### 8) Create a function called **\"union\"** that receives two input lists and returns another list with the union of the elements of the two received, without repetition of elements and in ascending order. Use only lists (do not use sets); loops and conditionals. See the example: \n",
    "\n",
    ">```python\n",
    ">>>> A = [-2, 0, 1, 2]\n",
    ">>>> B = [-1, 1, 2, 10]\n",
    ">>>> union(A,B)\n",
    "> [-2, ,-1, 0, 1, 2, 10]\n",
    "```"
   ]
  },
  {
   "cell_type": "code",
   "execution_count": 3,
   "metadata": {},
   "outputs": [
    {
     "data": {
      "text/plain": [
       "[-4, -2, -1, 0, 1, 2, 10, 11]"
      ]
     },
     "execution_count": 3,
     "metadata": {},
     "output_type": "execute_result"
    }
   ],
   "source": [
    "def union(LI1, LI2):\n",
    "    LI1.extend(LI2)\n",
    "    LI3 = []\n",
    "    for v in LI1:\n",
    "        if v not in LI3:\n",
    "            LI3.append(v)\n",
    "    return sorted(LI3)\n",
    "\n",
    "A = [-2, 0, 1, 2, 10, 11]\n",
    "B = [-4, -2, -1, 1, 2, 10, 11]\n",
    "union(A, B)"
   ]
  },
  {
   "cell_type": "markdown",
   "metadata": {},
   "source": [
    "#### 9) Generalize the **\"intersection\"** function so that it receives an indefinite number of lists and returns the intersection of all of them. Call the new function **intersection2**. "
   ]
  },
  {
   "cell_type": "code",
   "execution_count": 35,
   "metadata": {},
   "outputs": [
    {
     "data": {
      "text/plain": [
       "[-3, 5, 6, 7]"
      ]
     },
     "execution_count": 35,
     "metadata": {},
     "output_type": "execute_result"
    }
   ],
   "source": [
    "def intersection2(*args):\n",
    "    LIx = []\n",
    "    ct = 0\n",
    "    for a in args[0]:\n",
    "        for b in range(1, len(args)):\n",
    "            if a in args[b]:\n",
    "                ct += 1\n",
    "                if ct == (len(args) - 1):\n",
    "                    LIx.append(a)\n",
    "        ct = 0\n",
    "    LIy = []\n",
    "    for c in LIx:\n",
    "        if c not in LIy:\n",
    "            LIy.append(c)\n",
    "    return sorted(LIy)\n",
    "\n",
    "A = [-3, 4, 5, 6, 7]\n",
    "B = [-3, 3, 4, 5, 6, 7]\n",
    "C = [-3, 9, 3, 5, 6, 7]\n",
    "D = [-3, -9, 3, 4, 5, 6, 7]\n",
    "\n",
    "intersection2(A, B, C, D)"
   ]
  },
  {
   "cell_type": "markdown",
   "metadata": {},
   "source": [
    "## Challenge\n",
    "\n",
    "#### 10) Create a function named **\"matrix\"** that implements matrix multiplication:\n",
    "    \n",
    "Given the matrices:\n",
    "    \n",
    "$A_{m\\times n}=\n",
    "\\left[\\begin{matrix}\n",
    "a_{11}&a_{12}&...&a_{1n}\\\\\n",
    "a_{21}&a_{22}&...&a_{2n}\\\\\n",
    "\\vdots &\\vdots &&\\vdots\\\\\n",
    "a_{m1}&a_{m2}&...&a_{mn}\\\\\n",
    "\\end{matrix}\\right]$\n",
    "    \n",
    "We will represent then as a list of lists.\n",
    "\n",
    "$A = [[a_{11},a_{12},...,a_{1n}],[a_{21},a_{22},...,a_{2n}], . . . ,[a_{m1},a_{m2},...,a_{mn}]]$\n",
    "\n",
    "The **\"matrix\"** funtion must receive two matrices $A$ e $B$ in the specified format and return $A\\times B$"
   ]
  },
  {
   "cell_type": "code",
   "execution_count": 93,
   "metadata": {},
   "outputs": [
    {
     "data": {
      "text/plain": [
       "[[7, 8], [9, 2]]"
      ]
     },
     "execution_count": 93,
     "metadata": {},
     "output_type": "execute_result"
    }
   ],
   "source": [
    "def matrix(M1, M2):\n",
    "    Am = len(M1)\n",
    "    An = len(M1[0])\n",
    "    Bm = len(M2)\n",
    "    An = Bm\n",
    "    Bn = len(M2[0])\n",
    "    C = []\n",
    "    for x in range(Am):\n",
    "        C.append([])\n",
    "    if An != Bm:\n",
    "        print('The multiplication of the two matrices is not possible')\n",
    "    else:\n",
    "        c = 0\n",
    "        d = 0\n",
    "        for a in range(Am):\n",
    "            for b in range(Bn):\n",
    "                for a1 in range(An):\n",
    "                    c = M1[a][a1] * M2[a1][b]\n",
    "                    d += c\n",
    "                C[a].append(d)\n",
    "                c = 0\n",
    "                d = 0\n",
    "    return C\n",
    "\n",
    "A = [[3, 2, 1], [1, 0, 2]]\n",
    "B = [[1, 2], [0, 1], [4, 0]]\n",
    "matrix(A, B)"
   ]
  },
  {
   "cell_type": "code",
   "execution_count": null,
   "metadata": {},
   "outputs": [],
   "source": []
  },
  {
   "cell_type": "code",
   "execution_count": null,
   "metadata": {},
   "outputs": [],
   "source": []
  }
 ],
 "metadata": {
  "kernelspec": {
   "display_name": "Python 3",
   "language": "python",
   "name": "python3"
  },
  "language_info": {
   "codemirror_mode": {
    "name": "ipython",
    "version": 3
   },
   "file_extension": ".py",
   "mimetype": "text/x-python",
   "name": "python",
   "nbconvert_exporter": "python",
   "pygments_lexer": "ipython3",
   "version": "3.9.2"
  }
 },
 "nbformat": 4,
 "nbformat_minor": 4
}
