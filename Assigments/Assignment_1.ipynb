{
 "cells": [
  {
   "cell_type": "markdown",
   "metadata": {},
   "source": [
    "## First Assignment"
   ]
  },
  {
   "cell_type": "markdown",
   "metadata": {},
   "source": [
    "#### 1) Apply the appropriate string methods to the **x** variable (as '.upper') to change it exactly to: \"$Dichlorodiphenyltrichloroethane$\"."
   ]
  },
  {
   "cell_type": "code",
   "execution_count": 39,
   "metadata": {},
   "outputs": [],
   "source": [
    "x = \"DiClOrod  IFeNi  lTRicLOr oETaNo  DiChlorod iPHeny lTrichL oroEThaNe\""
   ]
  },
  {
   "cell_type": "code",
   "execution_count": 30,
   "metadata": {},
   "outputs": [
    {
     "name": "stdout",
     "output_type": "stream",
     "text": [
      "Dichlorodiphenyltrichloroethane\n"
     ]
    }
   ],
   "source": [
    "# since the string we are trying to achieve contains only elements of the second half of the given string: \n",
    "# we need to find the correct startpoint to match the word given above. that's why rfind is used. \n",
    "\n",
    "x = x[x.rfind('Di'):].capitalize().replace(' ', '')\n",
    "print(x)"
   ]
  },
  {
   "cell_type": "code",
   "execution_count": 48,
   "metadata": {},
   "outputs": [
    {
     "name": "stdout",
     "output_type": "stream",
     "text": [
      "Dichlorodiphenyltrichloroethane\n"
     ]
    }
   ],
   "source": [
    "# fun version using regex to find the correct starting point.\n",
    "\n",
    "import re\n",
    "\n",
    "y = re.findall('Di[cC]h[\\w ]+$', x)\n",
    "print(''.join(y).capitalize().replace(' ', ''))"
   ]
  },
  {
   "cell_type": "markdown",
   "metadata": {},
   "source": [
    "#### 2) Assign respectively the values: 'word', 15, 3.14 and 'list' to variables A, B, C and D in a single line of code. Then, print them in that same order on a single line separated by a space, using only one print statement."
   ]
  },
  {
   "cell_type": "code",
   "execution_count": 6,
   "metadata": {},
   "outputs": [
    {
     "name": "stdout",
     "output_type": "stream",
     "text": [
      "word 15 3.14 list\n"
     ]
    }
   ],
   "source": [
    "A, B, C, D = 'word', 15, 3.14, 'list'\n",
    "print(A, B, C, D, sep=' ')"
   ]
  },
  {
   "cell_type": "markdown",
   "metadata": {},
   "source": [
    "#### 3) Use the **input()** function to receive an input in the form **'68.4 1.71'**, that is, two floating point numbers in a line separated by space. Then, assign these numbers to the variables **w** and **h** respectively, which represent an individual's weight and height (hint: take a look at the '.split()' method). With this data, calculate the individual's Body Mass Index (BMI) from the following relationship: \n",
    "    \n",
    "\\begin{equation}\n",
    "BMI = \\dfrac{weight}{height^2}\n",
    "\\end{equation}"
   ]
  },
  {
   "cell_type": "code",
   "execution_count": 22,
   "metadata": {},
   "outputs": [
    {
     "name": "stdin",
     "output_type": "stream",
     "text": [
      "Enter your weight(in kg) and height(in m) as floating point numbers separated by a space 72 1.8\n"
     ]
    },
    {
     "name": "stdout",
     "output_type": "stream",
     "text": [
      "22.22222222222222\n"
     ]
    }
   ],
   "source": [
    "x = input('Enter your weight(in kg) and height(in m) as floating point numbers separated by a space')\n",
    "w, h = float(x.split()[0]), float(x.split()[1])\n",
    "bmi = w / h ** 2\n",
    "print(bmi)"
   ]
  },
  {
   "cell_type": "markdown",
   "metadata": {},
   "source": [
    "#### This value can also be classified according to ranges of values, following to the table below. Use conditional structures to classify and print the classification assigned to the individual. \n",
    "\n",
    "<center><img src=\"https://healthtravelguide.com/wp-content/uploads/2020/06/Body-mass-index-table.png\" width=\"30%\"><\\center>  \n",
    "\n",
    "\n",
    "(source: https://healthtravelguide.com/bmi-calculator/)"
   ]
  },
  {
   "cell_type": "code",
   "execution_count": 23,
   "metadata": {},
   "outputs": [
    {
     "name": "stdout",
     "output_type": "stream",
     "text": [
      "normal weight\n"
     ]
    }
   ],
   "source": [
    "if bmi < 18.5:\n",
    "    print('underweight')\n",
    "elif 18.5 < bmi < 24.9:\n",
    "    print('normal weight')\n",
    "elif 25.0 < bmi < 29.9:\n",
    "    print('pre-obesity')\n",
    "elif 30.0 < bmi < 34.9:\n",
    "    print('obesity class I')\n",
    "elif 35.0 < bmi < 39.9:\n",
    "    print('obesity class II')\n",
    "else:\n",
    "    print('obesity class III')"
   ]
  },
  {
   "cell_type": "markdown",
   "metadata": {},
   "source": [
    "#### 4) Receive an integer as an input and, using a loop, calculate the factorial of this number, that is, the product of all the integers from one to the number provided. "
   ]
  },
  {
   "cell_type": "code",
   "execution_count": 33,
   "metadata": {},
   "outputs": [
    {
     "name": "stdin",
     "output_type": "stream",
     "text": [
      "enter an integer 10\n"
     ]
    },
    {
     "name": "stdout",
     "output_type": "stream",
     "text": [
      "3628800\n"
     ]
    }
   ],
   "source": [
    "i = input('enter an integer')\n",
    "y = 1\n",
    "for x in range(1, int(i) + 1):\n",
    "    y *= x\n",
    "print(y)"
   ]
  },
  {
   "cell_type": "markdown",
   "metadata": {},
   "source": [
    "#### 5) Using a while loop and the input function, read an indefinite number of integers until the number read is -1. Present the sum of all these numbers in the form of a print, excluding the -1 read at the end. "
   ]
  },
  {
   "cell_type": "code",
   "execution_count": 7,
   "metadata": {},
   "outputs": [
    {
     "name": "stdin",
     "output_type": "stream",
     "text": [
      "enter an integer 3\n",
      "enter an integer 4\n",
      "enter an integer 5\n",
      "enter an integer 6\n",
      "enter an integer 7\n",
      "enter an integer 8\n",
      "enter an integer -1\n"
     ]
    },
    {
     "name": "stdout",
     "output_type": "stream",
     "text": [
      "[3, 4, 5, 6, 7, 8, -1] 33\n"
     ]
    }
   ],
   "source": [
    "su = []\n",
    "while True:\n",
    "    x = int(input('enter an integer'))\n",
    "    su.append(x)\n",
    "    if x == -1:\n",
    "        break\n",
    "print(su, sum(su[:len(su) - 1]))\n",
    "\n"
   ]
  },
  {
   "cell_type": "code",
   "execution_count": 2,
   "metadata": {},
   "outputs": [
    {
     "name": "stdin",
     "output_type": "stream",
     "text": [
      "enter an integer 3\n",
      "enter an integer 4\n",
      "enter an integer 5\n",
      "enter an integer 6\n",
      "enter an integer 7\n",
      "enter an integer 8\n",
      "enter an integer -1\n"
     ]
    },
    {
     "name": "stdout",
     "output_type": "stream",
     "text": [
      "33\n"
     ]
    }
   ],
   "source": [
    "# alternate version\n",
    "su = 0\n",
    "while True:\n",
    "    x = int(input('enter an integer'))\n",
    "    if x == -1:\n",
    "        break\n",
    "    su += x\n",
    "print(su)"
   ]
  },
  {
   "cell_type": "markdown",
   "metadata": {},
   "source": [
    "#### 6) Read the **first name** of an employee, his **amount of hours worked** and the **salary per hour** in a single line separated by commas. Next, calculate the **total salary** for this employee and show it to two decimal places."
   ]
  },
  {
   "cell_type": "code",
   "execution_count": null,
   "metadata": {},
   "outputs": [],
   "source": [
    "x = input('Enter the first name of an employee, his amount of hours worked and the salary per hour separated by commas.')\n",
    "name, amh, sah = x.split(',')[0], float(x.split(',')[1]), float(x.split(',')[2])\n",
    "totalsal = round(amh * sah, 2)\n",
    "print(f'{name} has a total salary of {totalsal}')"
   ]
  },
  {
   "cell_type": "markdown",
   "metadata": {},
   "source": [
    "#### 7) Read three floating point values **A**, **B** and **C** respectively. Then calculate itens a, b, c, d and e: "
   ]
  },
  {
   "cell_type": "code",
   "execution_count": 13,
   "metadata": {},
   "outputs": [
    {
     "name": "stdin",
     "output_type": "stream",
     "text": [
      "Enter three floats separated by a space 2.0 4.0 6.0\n"
     ]
    }
   ],
   "source": [
    "inp = input('Enter three floats separated by a space') \n",
    "A, B, C = float(inp.split()[0]), float(inp.split()[1]), float(inp.split()[2])"
   ]
  },
  {
   "cell_type": "markdown",
   "metadata": {},
   "source": [
    "    a) the area of the triangle rectangle with A as the base and C as the height."
   ]
  },
  {
   "cell_type": "code",
   "execution_count": 14,
   "metadata": {},
   "outputs": [
    {
     "name": "stdout",
     "output_type": "stream",
     "text": [
      "6.0\n"
     ]
    }
   ],
   "source": [
    "areatri = (A * C) * 0.5\n",
    "print(areatri)"
   ]
  },
  {
   "cell_type": "markdown",
   "metadata": {},
   "source": [
    "    b) the area of the circle of radius C. (pi = 3.14159) "
   ]
  },
  {
   "cell_type": "code",
   "execution_count": 15,
   "metadata": {},
   "outputs": [
    {
     "name": "stdout",
     "output_type": "stream",
     "text": [
      "113.09724\n"
     ]
    }
   ],
   "source": [
    "pi = 3.14159\n",
    "areacirc = pi * (C ** 2)\n",
    "print(areacirc)"
   ]
  },
  {
   "cell_type": "markdown",
   "metadata": {},
   "source": [
    "    c) the area of the trapezoid that has A and B for bases and C for height. "
   ]
  },
  {
   "cell_type": "code",
   "execution_count": 16,
   "metadata": {},
   "outputs": [
    {
     "name": "stdout",
     "output_type": "stream",
     "text": [
      "18.0\n"
     ]
    }
   ],
   "source": [
    "areatrap = (C/2) * (A + B) \n",
    "print(areatrap)"
   ]
  },
  {
   "cell_type": "markdown",
   "metadata": {},
   "source": [
    "    d) the area of the square that has side B. "
   ]
  },
  {
   "cell_type": "code",
   "execution_count": 17,
   "metadata": {},
   "outputs": [
    {
     "name": "stdout",
     "output_type": "stream",
     "text": [
      "16.0\n"
     ]
    }
   ],
   "source": [
    "areasquare = B ** 2\n",
    "print(areasquare)"
   ]
  },
  {
   "cell_type": "markdown",
   "metadata": {},
   "source": [
    "    e) the area of the rectangle that has sides A and B. "
   ]
  },
  {
   "cell_type": "code",
   "execution_count": 18,
   "metadata": {},
   "outputs": [
    {
     "name": "stdout",
     "output_type": "stream",
     "text": [
      "8.0\n"
     ]
    }
   ],
   "source": [
    "arearect = A * B\n",
    "print(arearect)"
   ]
  },
  {
   "cell_type": "markdown",
   "metadata": {},
   "source": [
    "#### 8) Read **the values a, b and c** and calculate the **roots of the second degree equation** $ax^{2}+bx+c=0$ using [this formula](https://en.wikipedia.org/wiki/Quadratic_equation). If it is not possible to calculate the roots, display the message **“There are no real roots”**. "
   ]
  },
  {
   "cell_type": "code",
   "execution_count": 13,
   "metadata": {},
   "outputs": [
    {
     "name": "stdin",
     "output_type": "stream",
     "text": [
      "Enter three values separated by a space 2.0 16.0 3.0\n"
     ]
    },
    {
     "name": "stdout",
     "output_type": "stream",
     "text": [
      "There are two solutions which are -0.19211344706804567 and -7.807886552931954\n"
     ]
    }
   ],
   "source": [
    "inp1 = input('Enter three values separated by a space')\n",
    "a, b, c = float(inp1.split()[0]), float(inp1.split()[1]), float(inp1.split()[2])\n",
    "d = b ** 2 - 4*a*c\n",
    "x1 = (-b + d ** (1/2))/(2 * a)\n",
    "x2 = (-b - d ** (1/2))/(2 * a)\n",
    "if a == 0:\n",
    "    print('The equation is now linear, not quadratic, as there is no ax^2 term.')\n",
    "else:\n",
    "    if d < 0:\n",
    "        print('There are no real roots')\n",
    "    elif d == 0:\n",
    "        print(f'There is one solution which is {x1}') #since x1 == x2 is true.\n",
    "    else:\n",
    "        print(f'There are two solutions which are {x1} and {x2}')"
   ]
  },
  {
   "cell_type": "code",
   "execution_count": 15,
   "metadata": {},
   "outputs": [
    {
     "name": "stdin",
     "output_type": "stream",
     "text": [
      "Enter three values separated by a space 2.0 16.0 3.0\n"
     ]
    },
    {
     "name": "stdout",
     "output_type": "stream",
     "text": [
      "There are two solutions which are -0.19211344706804567 and -7.807886552931954\n"
     ]
    }
   ],
   "source": [
    "# alternate version importing math module\n",
    "\n",
    "import math\n",
    "\n",
    "inp1 = input('Enter three values separated by a space')\n",
    "a, b, c = float(inp1.split()[0]), float(inp1.split()[1]), float(inp1.split()[2])\n",
    "d = b ** 2 - 4*a*c\n",
    "x1 = (-b + math.sqrt(d))/(2 * a)\n",
    "x2 = (-b - math.sqrt(d))/(2 * a)\n",
    "if a == 0:\n",
    "    print('The equation is now linear, not quadratic, as there is no ax^2 term.')\n",
    "else:\n",
    "    if d < 0:\n",
    "        print('There are no real roots')\n",
    "    elif d == 0:\n",
    "        print(f'There is one solution which is {x1}') #since x1 == x2 is true.\n",
    "    else:\n",
    "        print(f'There are two solutions which are {x1} and {x2}')"
   ]
  },
  {
   "cell_type": "markdown",
   "metadata": {},
   "source": [
    "#### 9) Read four floating point numerical values corresponding to the coordinates of two geographical coordinates in the cartesian plane. Each point will come in a line with its coordinates separated by space. Then calculate and show the distance between these two points. \n",
    "\n",
    "(obs: $d=\\sqrt{(x_1-x_2)^2 + (y_1-y_2)^2}$)"
   ]
  },
  {
   "cell_type": "code",
   "execution_count": 59,
   "metadata": {},
   "outputs": [
    {
     "name": "stdin",
     "output_type": "stream",
     "text": [
      "Enter the coordinates of the first point as floating point numbers separated by a space 2.0 2.0\n",
      "Enter the coordinates of the second point as floating point numbers separated by a space 4.0 4.0\n"
     ]
    },
    {
     "name": "stdout",
     "output_type": "stream",
     "text": [
      "The distance of the two points is 2.8284271247461903\n"
     ]
    }
   ],
   "source": [
    "import math\n",
    "\n",
    "inp1 = input('Enter the coordinates of the first point as floating point numbers separated by a space').split()\n",
    "inp2 = input('Enter the coordinates of the second point as floating point numbers separated by a space').split()\n",
    "x1, y1 = float(inp1[0]), float(inp1[1]) \n",
    "x2, y2 = float(inp2[0]), float(inp2[1]) \n",
    "print(f'The distance of the two points is {math.sqrt((x1 - x2) ** 2 + (y1 - y2) ** 2)}')"
   ]
  },
  {
   "cell_type": "markdown",
   "metadata": {},
   "source": [
    "#### 10) Read **two floating point numbers** on a line that represent **coordinates of a cartesian point**. With this, use **conditional structures** to determine if you are at the origin, printing the message **'origin'**; in one of the axes, printing **'x axis'** or **'y axis'**; or in one of the four quadrants, printing **'q1'**, **'q2**', **'q3'** or **'q4'**. "
   ]
  },
  {
   "cell_type": "code",
   "execution_count": 24,
   "metadata": {},
   "outputs": [
    {
     "name": "stdin",
     "output_type": "stream",
     "text": [
      "Enter the coordinates of a point as floating point numbers separated by a space. 0.0 3.0\n"
     ]
    },
    {
     "name": "stdout",
     "output_type": "stream",
     "text": [
      "y axis\n"
     ]
    }
   ],
   "source": [
    "inp = input('Enter the coordinates of a point as floating point numbers separated by a space.').split()\n",
    "x, y = float(inp[0]), float(inp[1])\n",
    "if x == 0 and y == 0:\n",
    "    print('origin')\n",
    "elif x == 0:\n",
    "    print('y axis')\n",
    "elif y == 0:\n",
    "    print('x axis')\n",
    "else:\n",
    "    if x > 0 and y > 0:\n",
    "        print('q1')\n",
    "    elif x < 0 and y > 0:\n",
    "        print('q2')\n",
    "    elif x < 0 and y < 0:\n",
    "        print('q3')\n",
    "    elif x > 0 and y < 0:\n",
    "        print('q4')"
   ]
  },
  {
   "cell_type": "markdown",
   "metadata": {},
   "source": [
    "#### 11) Read an integer that represents a phone code for international dialing.  \n",
    "#### Then, inform to which country the code belongs to, considering the generated table below:\n",
    "(You just need to consider the first 10 entries)  "
   ]
  },
  {
   "cell_type": "code",
   "execution_count": 36,
   "metadata": {},
   "outputs": [
    {
     "ename": "ModuleNotFoundError",
     "evalue": "No module named 'pandas'",
     "output_type": "error",
     "traceback": [
      "\u001b[0;31m---------------------------------------------------------------------------\u001b[0m",
      "\u001b[0;31mModuleNotFoundError\u001b[0m                       Traceback (most recent call last)",
      "\u001b[0;32m<ipython-input-36-2e8214b19344>\u001b[0m in \u001b[0;36m<module>\u001b[0;34m\u001b[0m\n\u001b[0;32m----> 1\u001b[0;31m \u001b[0;32mimport\u001b[0m \u001b[0mpandas\u001b[0m \u001b[0;32mas\u001b[0m \u001b[0mpd\u001b[0m\u001b[0;34m\u001b[0m\u001b[0;34m\u001b[0m\u001b[0m\n\u001b[0m\u001b[1;32m      2\u001b[0m \u001b[0mdf\u001b[0m \u001b[0;34m=\u001b[0m \u001b[0mpd\u001b[0m\u001b[0;34m.\u001b[0m\u001b[0mread_html\u001b[0m\u001b[0;34m(\u001b[0m\u001b[0;34m'https://en.wikipedia.org/wiki/Telephone_numbers_in_Europe'\u001b[0m\u001b[0;34m)\u001b[0m\u001b[0;34m[\u001b[0m\u001b[0;36m1\u001b[0m\u001b[0;34m]\u001b[0m\u001b[0;34m\u001b[0m\u001b[0;34m\u001b[0m\u001b[0m\n\u001b[1;32m      3\u001b[0m \u001b[0mdf\u001b[0m \u001b[0;34m=\u001b[0m \u001b[0mdf\u001b[0m\u001b[0;34m.\u001b[0m\u001b[0miloc\u001b[0m\u001b[0;34m[\u001b[0m\u001b[0;34m:\u001b[0m\u001b[0;34m,\u001b[0m\u001b[0;34m:\u001b[0m\u001b[0;36m2\u001b[0m\u001b[0;34m]\u001b[0m\u001b[0;34m\u001b[0m\u001b[0;34m\u001b[0m\u001b[0m\n\u001b[1;32m      4\u001b[0m \u001b[0mdf\u001b[0m\u001b[0;34m.\u001b[0m\u001b[0mhead\u001b[0m\u001b[0;34m(\u001b[0m\u001b[0;36m20\u001b[0m\u001b[0;34m)\u001b[0m\u001b[0;34m\u001b[0m\u001b[0;34m\u001b[0m\u001b[0m\n",
      "\u001b[0;31mModuleNotFoundError\u001b[0m: No module named 'pandas'"
     ]
    }
   ],
   "source": [
    "import pandas as pd\n",
    "df = pd.read_html('https://en.wikipedia.org/wiki/Telephone_numbers_in_Europe')[1]\n",
    "df = df.iloc[:,:2]\n",
    "df.head(20)"
   ]
  },
  {
   "cell_type": "code",
   "execution_count": 55,
   "metadata": {},
   "outputs": [
    {
     "name": "stdin",
     "output_type": "stream",
     "text": [
      "Enter a phone code. 43\n"
     ]
    },
    {
     "name": "stdout",
     "output_type": "stream",
     "text": [
      "Austria\n"
     ]
    }
   ],
   "source": [
    "phoco = {'Austria':43,\n",
    "'Belgium':32,\n",
    "'Bulgaria':359,\n",
    "'Croatia':385,\n",
    "'Cyprus':357,\n",
    "'Czech Republic':420,\n",
    "'Denmark':45,\n",
    "'Estonia':372,\n",
    "'Finland':358,\n",
    "'France':33,\n",
    "'Germany':49,}\n",
    "inp = int(input('Enter a phone code.'))\n",
    "for a in phoco:\n",
    "    if phoco[a] == inp:\n",
    "        print(a)\n",
    "if inp not in phoco.values():\n",
    "    print('not available')"
   ]
  },
  {
   "cell_type": "markdown",
   "metadata": {},
   "source": [
    "#### 12) Write a piece of code that reads 6 numbers in a row. Next, show the number of positive values entered. On the next line, print the average of the values to one decimal place. "
   ]
  },
  {
   "cell_type": "code",
   "execution_count": 28,
   "metadata": {},
   "outputs": [
    {
     "name": "stdin",
     "output_type": "stream",
     "text": [
      "Enter a number 2\n",
      "Enter a number 3\n",
      "Enter a number 4\n",
      "Enter a number -5\n",
      "Enter a number -6\n",
      "Enter a number -7\n"
     ]
    },
    {
     "name": "stdout",
     "output_type": "stream",
     "text": [
      "Positive numbers entered: 3\n",
      "Average of the values: -1.5\n"
     ]
    }
   ],
   "source": [
    "# version 1\n",
    "numb = []\n",
    "for a in range(6):\n",
    "    inp = float(input('Enter a number'))\n",
    "    numb.append(inp)\n",
    "count = 0\n",
    "for nu in numb:\n",
    "    if nu > 0:\n",
    "        count += 1\n",
    "print(f'Positive numbers entered: {count}' + '\\n' + f'Average of the values: {round(sum(numb)/len(numb), 1)}')"
   ]
  },
  {
   "cell_type": "code",
   "execution_count": null,
   "metadata": {},
   "outputs": [],
   "source": [
    "# version 2\n",
    "inp = input('Enter 6 numbers in a row spearated by a space').split()\n",
    "count = 0\n",
    "for nu in inp:\n",
    "    if nu > 0:\n",
    "        count += 1\n",
    "print(f'Positive numbers entered: {count}' + '\\n' + f'Average of the values: {round(sum(numb)/len(numb), 1)}')"
   ]
  },
  {
   "cell_type": "markdown",
   "metadata": {},
   "source": [
    "#### 13) Read an integer **N**. Then print the **square of each of the even values**, from 1 to N, including N, if applicable, arranged one per line. "
   ]
  },
  {
   "cell_type": "code",
   "execution_count": 29,
   "metadata": {},
   "outputs": [
    {
     "name": "stdin",
     "output_type": "stream",
     "text": [
      "Enter an integer 6\n"
     ]
    },
    {
     "name": "stdout",
     "output_type": "stream",
     "text": [
      "4\n",
      "16\n",
      "36\n"
     ]
    }
   ],
   "source": [
    "inp = int(input('Enter an integer'))\n",
    "for a in range(1, inp + 1):\n",
    "    if a % 2 == 0:\n",
    "        print(a ** 2, end='\\n')\n"
   ]
  },
  {
   "cell_type": "markdown",
   "metadata": {},
   "source": [
    "#### 14) Using **input()**, read an integer and print its classification as **'even / odd'** and **'positive / negative'** . The two classes for the number must be printed on the same line separated by a space. In the case of zero, print only **'null'**. "
   ]
  },
  {
   "cell_type": "code",
   "execution_count": 35,
   "metadata": {},
   "outputs": [
    {
     "name": "stdin",
     "output_type": "stream",
     "text": [
      "Enter an integer -4\n"
     ]
    },
    {
     "name": "stdout",
     "output_type": "stream",
     "text": [
      "negative even\n"
     ]
    }
   ],
   "source": [
    "inp = int(input('Enter an integer'))\n",
    "cl1 = ''\n",
    "cl2 = ''\n",
    "if inp == 0:\n",
    "    print('null')\n",
    "    \n",
    "if inp > 0:\n",
    "    cl1 = 'positive'\n",
    "else:\n",
    "    cl1 = 'negative'\n",
    "    \n",
    "if inp % 2 == 0:\n",
    "    cl2 = 'even'\n",
    "else:\n",
    "    cl2 = 'odd'\n",
    "print(f'{cl1} {cl2}')\n",
    "    "
   ]
  },
  {
   "cell_type": "markdown",
   "metadata": {},
   "source": [
    "## Challenge\n",
    "#### 15) Ordering problems are recurrent in the history of programming. Over time, several algorithms have been developed to fulfill this function. The simplest of these algorithms is the [**Bubble Sort**](https://en.wikipedia.org/wiki/Bubble_sort), which is based on comparisons of elements two by two in a loop of passes through the elements. Your mission, if you decide to accept it, will be to input six whole numbers ramdonly ordered. Then implement the **Bubble Sort** principle to order these six numbers **using only loops and conditionals**.  \n",
    "#### At the end, print the six numbers in ascending order on a single line separated by spaces. "
   ]
  },
  {
   "cell_type": "code",
   "execution_count": 61,
   "metadata": {},
   "outputs": [
    {
     "name": "stdout",
     "output_type": "stream",
     "text": [
      "-10 -7 -2 0 2 8 "
     ]
    }
   ],
   "source": [
    "# bubble sort problem\n",
    "# version 1 generating random numbers by random module\n",
    "import random\n",
    "mylist1 = []\n",
    "for b in range(6):\n",
    "    y = random.randint(-10, 10)\n",
    "    mylist1.append(y)\n",
    "\n",
    "\n",
    "while True:\n",
    "    ct = 0\n",
    "    for a in range(len(mylist1) - 1):\n",
    "        if mylist1[a] > mylist1[a + 1]:\n",
    "            mylist1[a], mylist1[a + 1] = mylist1[a + 1], mylist1[a]\n",
    "            ct += 1\n",
    "    if ct == 0:\n",
    "        break\n",
    "\n",
    "for el in mylist1:\n",
    "    print(el, end=' ')\n"
   ]
  },
  {
   "cell_type": "code",
   "execution_count": 63,
   "metadata": {},
   "outputs": [
    {
     "name": "stdin",
     "output_type": "stream",
     "text": [
      "Enter 6 integers in random order separated by a space -100 1000 3 200 567 4\n"
     ]
    },
    {
     "name": "stdout",
     "output_type": "stream",
     "text": [
      "-100 3 4 200 567 1000 "
     ]
    }
   ],
   "source": [
    "# bubble sort problem\n",
    "# version 2 entering numbers myself\n",
    "inp = input('Enter 6 integers in random order separated by a space').split()\n",
    "\n",
    "while True:\n",
    "    ct = 0\n",
    "    for a in range(len(inp) - 1):\n",
    "        if int(inp[a]) > int(inp[a + 1]):\n",
    "            inp[a], inp[a + 1] = inp[a + 1], inp[a]\n",
    "            ct += 1\n",
    "    if ct == 0:\n",
    "        break\n",
    "\n",
    "for el in inp:\n",
    "    print(el, end=' ')\n"
   ]
  },
  {
   "cell_type": "code",
   "execution_count": null,
   "metadata": {},
   "outputs": [],
   "source": []
  }
 ],
 "metadata": {
  "kernelspec": {
   "display_name": "Python 3",
   "language": "python",
   "name": "python3"
  },
  "language_info": {
   "codemirror_mode": {
    "name": "ipython",
    "version": 3
   },
   "file_extension": ".py",
   "mimetype": "text/x-python",
   "name": "python",
   "nbconvert_exporter": "python",
   "pygments_lexer": "ipython3",
   "version": "3.9.2"
  }
 },
 "nbformat": 4,
 "nbformat_minor": 4
}
